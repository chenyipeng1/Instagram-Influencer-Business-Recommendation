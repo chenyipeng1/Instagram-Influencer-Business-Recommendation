{
 "cells": [
  {
   "cell_type": "code",
   "execution_count": 16,
   "metadata": {},
   "outputs": [],
   "source": [
    "import json\n",
    "import pandas as pd\n",
    "import numpy as np\n",
    "import os\n",
    "import pickle"
   ]
  },
  {
   "cell_type": "code",
   "execution_count": 134,
   "metadata": {},
   "outputs": [],
   "source": [
    "hashtag200 = get_filepath('instagram-crawler/crawledposts2/')"
   ]
  },
  {
   "cell_type": "code",
   "execution_count": 123,
   "metadata": {},
   "outputs": [],
   "source": [
    "failed600 = pickle.load( open( \"instagram-crawler/failed_username.p\", \"rb\" ) )"
   ]
  },
  {
   "cell_type": "code",
   "execution_count": 126,
   "metadata": {},
   "outputs": [],
   "source": [
    "crawled400 = get_filepath('instagram-crawler/crawledposts/')"
   ]
  },
  {
   "cell_type": "code",
   "execution_count": 77,
   "metadata": {},
   "outputs": [],
   "source": [
    "df1000 = pd.read_csv('instagram-crawler/1000_ins.csv')"
   ]
  },
  {
   "cell_type": "code",
   "execution_count": 121,
   "metadata": {},
   "outputs": [],
   "source": [
    "def get_filepath(homedir):\n",
    "    file_paths = []\n",
    "    for dirpath, dirnames, filenames in os.walk(homedir):\n",
    "        if not dirnames:\n",
    "            for file in filenames:\n",
    "                if file.endswith('.json'):\n",
    "                    file_paths.append(dirpath+file)\n",
    "    return file_paths\n",
    "# audio_paths = get_filepath('SimulationRecord3/')"
   ]
  },
  {
   "cell_type": "code",
   "execution_count": 197,
   "metadata": {},
   "outputs": [],
   "source": [
    "def data_each_person(filepath):\n",
    "    username = filepath.split('_')[1].split('.')[0]\n",
    "    with open(filepath, \"rb\") as jsonfile:\n",
    "        posts = json.load(jsonfile)\n",
    "        rows = []\n",
    "        \n",
    "        for i,data in enumerate(posts):\n",
    "            \n",
    "            time = data['datetime']\n",
    "            key = data['key']\n",
    "\n",
    "            try:\n",
    "                caption = data['caption']\n",
    "            except:\n",
    "                caption = np.nan\n",
    "\n",
    "            try:\n",
    "                likes = data['likes']\n",
    "            except:\n",
    "                likes = np.nan\n",
    "\n",
    "            try:\n",
    "                hashtag = data['hashtags']\n",
    "            except:\n",
    "                hashtag = np.nan\n",
    "\n",
    "            try:\n",
    "                views = data['views']\n",
    "                video = 1\n",
    "            except:\n",
    "                views = np.nan\n",
    "                video = 0  \n",
    "\n",
    "            try: \n",
    "                mentions = data['mentions']\n",
    "            except:\n",
    "                mentions = np.nan\n",
    "            \n",
    "            try:\n",
    "                urls = data['img_urls']\n",
    "                if urls == 'None':\n",
    "                    print(data)\n",
    "                \n",
    "                for u in urls:\n",
    "                    row = [username,time,likes,mentions,caption,views,video,hashtag,key,u]\n",
    "                    rows.append(row)\n",
    "            except:\n",
    "                print(username, 'no url')\n",
    "                row = [username,time,likes,mentions,caption,views,video,hashtag,key,np.nan]\n",
    "                rows.append(row)\n",
    "                \n",
    "        return rows"
   ]
  },
  {
   "cell_type": "code",
   "execution_count": 198,
   "metadata": {},
   "outputs": [],
   "source": [
    "columns = ['username','datetime','likes','mentions','caption','views','video','hashtags','key','urls']\n",
    "def crawled_influencer(filepath):\n",
    "    data = []\n",
    "    for p in filepath:\n",
    "        d = data_each_person(p)\n",
    "        data += d\n",
    "    df = pd.DataFrame(data,columns=columns)\n",
    "    return df"
   ]
  },
  {
   "cell_type": "code",
   "execution_count": 199,
   "metadata": {},
   "outputs": [
    {
     "name": "stdout",
     "output_type": "stream",
     "text": [
      "ddlovato no url\n",
      "thenotoriousmma no url\n"
     ]
    }
   ],
   "source": [
    "df400 = crawled_influencer(crawled400[:])"
   ]
  },
  {
   "cell_type": "code",
   "execution_count": 206,
   "metadata": {},
   "outputs": [
    {
     "data": {
      "text/plain": [
       "array(['full', 'lilyachty', 'ddlovato', 'thenotoriousmma'], dtype=object)"
      ]
     },
     "execution_count": 206,
     "metadata": {},
     "output_type": "execute_result"
    }
   ],
   "source": [
    "df400[df400.likes.isna()].username.unique()"
   ]
  },
  {
   "cell_type": "code",
   "execution_count": 200,
   "metadata": {},
   "outputs": [
    {
     "data": {
      "text/plain": [
       "(15476, 10)"
      ]
     },
     "execution_count": 200,
     "metadata": {},
     "output_type": "execute_result"
    }
   ],
   "source": [
    "df400.shape"
   ]
  },
  {
   "cell_type": "code",
   "execution_count": 201,
   "metadata": {},
   "outputs": [
    {
     "data": {
      "text/html": [
       "<div>\n",
       "<style scoped>\n",
       "    .dataframe tbody tr th:only-of-type {\n",
       "        vertical-align: middle;\n",
       "    }\n",
       "\n",
       "    .dataframe tbody tr th {\n",
       "        vertical-align: top;\n",
       "    }\n",
       "\n",
       "    .dataframe thead th {\n",
       "        text-align: right;\n",
       "    }\n",
       "</style>\n",
       "<table border=\"1\" class=\"dataframe\">\n",
       "  <thead>\n",
       "    <tr style=\"text-align: right;\">\n",
       "      <th></th>\n",
       "      <th>username</th>\n",
       "      <th>datetime</th>\n",
       "      <th>likes</th>\n",
       "      <th>mentions</th>\n",
       "      <th>caption</th>\n",
       "      <th>views</th>\n",
       "      <th>video</th>\n",
       "      <th>hashtags</th>\n",
       "      <th>key</th>\n",
       "      <th>urls</th>\n",
       "    </tr>\n",
       "  </thead>\n",
       "  <tbody>\n",
       "    <tr>\n",
       "      <th>10345</th>\n",
       "      <td>full</td>\n",
       "      <td>2019-08-31T22:28:52.000Z</td>\n",
       "      <td>NaN</td>\n",
       "      <td>NaN</td>\n",
       "      <td>Think of all the good moments of this day, and...</td>\n",
       "      <td>NaN</td>\n",
       "      <td>0</td>\n",
       "      <td>NaN</td>\n",
       "      <td>https://www.instagram.com/p/B12FsTjJVKv/</td>\n",
       "      <td>https://scontent-ort2-1.cdninstagram.com/vp/0c...</td>\n",
       "    </tr>\n",
       "    <tr>\n",
       "      <th>14064</th>\n",
       "      <td>nehakakkar</td>\n",
       "      <td>2019-10-08T02:59:27.000Z</td>\n",
       "      <td>740242.0</td>\n",
       "      <td>NaN</td>\n",
       "      <td>Haye Ve Main Kinni Soni Haan, Haye Ve Meri Beh...</td>\n",
       "      <td>3279627.0</td>\n",
       "      <td>1</td>\n",
       "      <td>NaN</td>\n",
       "      <td>https://www.instagram.com/p/B3V2BI3DFMa/</td>\n",
       "      <td>https://scontent-ort2-1.cdninstagram.com/vp/cb...</td>\n",
       "    </tr>\n",
       "    <tr>\n",
       "      <th>9640</th>\n",
       "      <td>finnwolfhardofficial</td>\n",
       "      <td>2019-10-21T15:23:30.000Z</td>\n",
       "      <td>2889320.0</td>\n",
       "      <td>NaN</td>\n",
       "      <td>Rip</td>\n",
       "      <td>NaN</td>\n",
       "      <td>0</td>\n",
       "      <td>NaN</td>\n",
       "      <td>https://www.instagram.com/p/B34pjhfBXFR/</td>\n",
       "      <td>https://scontent-ort2-1.cdninstagram.com/vp/b1...</td>\n",
       "    </tr>\n",
       "    <tr>\n",
       "      <th>8916</th>\n",
       "      <td>emrata</td>\n",
       "      <td>2019-11-01T09:16:46.000Z</td>\n",
       "      <td>320417.0</td>\n",
       "      <td>NaN</td>\n",
       "      <td>NaN</td>\n",
       "      <td>NaN</td>\n",
       "      <td>0</td>\n",
       "      <td>NaN</td>\n",
       "      <td>https://www.instagram.com/p/B4UUVB_hXyG/</td>\n",
       "      <td>https://scontent-ort2-1.cdninstagram.com/vp/7a...</td>\n",
       "    </tr>\n",
       "    <tr>\n",
       "      <th>12504</th>\n",
       "      <td>badbunnypr</td>\n",
       "      <td>2019-09-17T21:06:04.000Z</td>\n",
       "      <td>2441079.0</td>\n",
       "      <td>NaN</td>\n",
       "      <td>las redes no lo son todo. Si no me ven mucho p...</td>\n",
       "      <td>NaN</td>\n",
       "      <td>0</td>\n",
       "      <td>NaN</td>\n",
       "      <td>https://www.instagram.com/p/B2htuvqhaLz/</td>\n",
       "      <td>https://scontent-ort2-1.cdninstagram.com/vp/f9...</td>\n",
       "    </tr>\n",
       "  </tbody>\n",
       "</table>\n",
       "</div>"
      ],
      "text/plain": [
       "                   username                  datetime      likes  mentions  \\\n",
       "10345                  full  2019-08-31T22:28:52.000Z        NaN       NaN   \n",
       "14064            nehakakkar  2019-10-08T02:59:27.000Z   740242.0       NaN   \n",
       "9640   finnwolfhardofficial  2019-10-21T15:23:30.000Z  2889320.0       NaN   \n",
       "8916                 emrata  2019-11-01T09:16:46.000Z   320417.0       NaN   \n",
       "12504            badbunnypr  2019-09-17T21:06:04.000Z  2441079.0       NaN   \n",
       "\n",
       "                                                 caption      views  video  \\\n",
       "10345  Think of all the good moments of this day, and...        NaN      0   \n",
       "14064  Haye Ve Main Kinni Soni Haan, Haye Ve Meri Beh...  3279627.0      1   \n",
       "9640                                                 Rip        NaN      0   \n",
       "8916                                                 NaN        NaN      0   \n",
       "12504  las redes no lo son todo. Si no me ven mucho p...        NaN      0   \n",
       "\n",
       "       hashtags                                       key  \\\n",
       "10345       NaN  https://www.instagram.com/p/B12FsTjJVKv/   \n",
       "14064       NaN  https://www.instagram.com/p/B3V2BI3DFMa/   \n",
       "9640        NaN  https://www.instagram.com/p/B34pjhfBXFR/   \n",
       "8916        NaN  https://www.instagram.com/p/B4UUVB_hXyG/   \n",
       "12504       NaN  https://www.instagram.com/p/B2htuvqhaLz/   \n",
       "\n",
       "                                                    urls  \n",
       "10345  https://scontent-ort2-1.cdninstagram.com/vp/0c...  \n",
       "14064  https://scontent-ort2-1.cdninstagram.com/vp/cb...  \n",
       "9640   https://scontent-ort2-1.cdninstagram.com/vp/b1...  \n",
       "8916   https://scontent-ort2-1.cdninstagram.com/vp/7a...  \n",
       "12504  https://scontent-ort2-1.cdninstagram.com/vp/f9...  "
      ]
     },
     "execution_count": 201,
     "metadata": {},
     "output_type": "execute_result"
    }
   ],
   "source": [
    "df400.sample(5)"
   ]
  },
  {
   "cell_type": "code",
   "execution_count": 203,
   "metadata": {},
   "outputs": [
    {
     "data": {
      "text/plain": [
       "(21, 10)"
      ]
     },
     "execution_count": 203,
     "metadata": {},
     "output_type": "execute_result"
    }
   ],
   "source": [
    "df400[df400.urls.isna()].shape"
   ]
  },
  {
   "cell_type": "code",
   "execution_count": 204,
   "metadata": {},
   "outputs": [
    {
     "data": {
      "text/plain": [
       "username\n",
       "kyliejenner         7.471162e+06\n",
       "billieeilish        6.097867e+06\n",
       "jenniferaniston     6.064780e+06\n",
       "tomholland2013      6.023296e+06\n",
       "selenagomez         5.368492e+06\n",
       "shawnmendes         3.918545e+06\n",
       "milliebobbybrown    3.585952e+06\n",
       "kendalljenner       3.490431e+06\n",
       "kimkardashian       3.237851e+06\n",
       "lalalalisa          3.231773e+06\n",
       "Name: likes, dtype: float64"
      ]
     },
     "execution_count": 204,
     "metadata": {},
     "output_type": "execute_result"
    }
   ],
   "source": [
    "df400.groupby('username').likes.mean().sort_values(ascending=False)[:10]"
   ]
  },
  {
   "cell_type": "code",
   "execution_count": null,
   "metadata": {},
   "outputs": [],
   "source": []
  }
 ],
 "metadata": {
  "kernelspec": {
   "display_name": "Python 3",
   "language": "python",
   "name": "python3"
  },
  "language_info": {
   "codemirror_mode": {
    "name": "ipython",
    "version": 3
   },
   "file_extension": ".py",
   "mimetype": "text/x-python",
   "name": "python",
   "nbconvert_exporter": "python",
   "pygments_lexer": "ipython3",
   "version": "3.7.3"
  }
 },
 "nbformat": 4,
 "nbformat_minor": 2
}
